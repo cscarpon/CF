{
 "cells": [
  {
   "cell_type": "code",
   "execution_count": 130,
   "metadata": {},
   "outputs": [],
   "source": [
    "import open3d as o3d\n",
    "import numpy as np\n",
    "import os\n",
    "import laspy\n",
    "import pyproj"
   ]
  },
  {
   "cell_type": "code",
   "execution_count": 166,
   "metadata": {},
   "outputs": [],
   "source": [
    "class Open3DICP:\n",
    "    def __init__(self, source_path, target_path, voxel_size=0.05, icp_method=\"point-to-point\"):\n",
    "        \"\"\"\n",
    "        Class to perform ICP alignment using Open3D while preserving LAS metadata.\n",
    "\n",
    "        :param source_path: Path to the source point cloud (.las or .laz)\n",
    "        :param target_path: Path to the target point cloud (.las or .laz)\n",
    "        :param voxel_size: Downsampling voxel size (smaller means higher resolution)\n",
    "        :param icp_method: \"point-to-point\" or \"point-to-plane\"\n",
    "        \"\"\"\n",
    "        self.source_path = source_path\n",
    "        self.target_path = target_path\n",
    "        self.aligned_path = self._generate_aligned_path(source_path)\n",
    "        self.voxel_size = voxel_size\n",
    "        self.icp_method = icp_method\n",
    "        self.transformation = None\n",
    "        self.rmse = None\n",
    "        self.metadata = None  # Store original classification/intensity/returns\n",
    "        self.original_crs = None  # Store original CRS (only projected CRS)\n",
    "        self.point_ids = None  # Unique ID for matching back metadata\n",
    "        self.original_header = None  # Store the original LAS header\n",
    "\n",
    "    def align(self):\n",
    "        \"\"\" Performs ICP alignment, saves the aligned point cloud, and returns the aligned file path + RMSE \"\"\"\n",
    "        source_pcd, source_metadata, source_ids = self._load_point_cloud(self.source_path)\n",
    "        target_pcd, _, _ = self._load_point_cloud(self.target_path)\n",
    "\n",
    "        if source_pcd is None or target_pcd is None:\n",
    "            print(\"Error: Failed to load point clouds.\")\n",
    "            return None  \n",
    "\n",
    "        # Downsample point clouds\n",
    "        source_down = source_pcd.voxel_down_sample(self.voxel_size)\n",
    "        target_down = target_pcd.voxel_down_sample(self.voxel_size)\n",
    "    \n",
    "        # Estimate normals (if point-to-plane)\n",
    "        if self.icp_method == \"point-to-plane\":\n",
    "            source_down.estimate_normals(o3d.geometry.KDTreeSearchParamHybrid(radius=0.4, max_nn=30))\n",
    "            target_down.estimate_normals(o3d.geometry.KDTreeSearchParamHybrid(radius=0.4, max_nn=30))\n",
    "    \n",
    "        # ICP Configuration\n",
    "        threshold = 1.0\n",
    "        trans_init = np.eye(4)\n",
    "        icp_method = (\n",
    "            o3d.pipelines.registration.TransformationEstimationPointToPlane()\n",
    "            if self.icp_method == \"point-to-plane\"\n",
    "            else o3d.pipelines.registration.TransformationEstimationPointToPoint()\n",
    "        )\n",
    "    \n",
    "        try:\n",
    "            # Run ICP\n",
    "            result = o3d.pipelines.registration.registration_icp(\n",
    "                source_down, target_down, threshold, trans_init, icp_method,\n",
    "                o3d.pipelines.registration.ICPConvergenceCriteria(max_iteration=50)\n",
    "            )\n",
    "    \n",
    "            self.transformation = result.transformation\n",
    "            self.rmse = result.inlier_rmse\n",
    "    \n",
    "            # Apply transformation and save result\n",
    "            source_pcd.transform(self.transformation)\n",
    "\n",
    "            # Merge back metadata using IDs\n",
    "            aligned_data = self._merge_metadata(source_pcd, source_metadata)\n",
    "\n",
    "            # Save the aligned LAS file with metadata\n",
    "            self._save_as_laz(aligned_data)\n",
    "    \n",
    "            # Format output string\n",
    "            output_str = f\"\"\"\n",
    "            ICP Alignment Completed.\n",
    "            RMSE: {self.rmse:.6f}\n",
    "            Transformation Matrix:\n",
    "            {np.array_str(self.transformation, precision=6, suppress_small=True)}\n",
    "            \"\"\"\n",
    "    \n",
    "            return self.aligned_path, output_str.strip()  # Return both\n",
    "    \n",
    "        except Exception as e:\n",
    "            return None, f\"Error during ICP alignment: {str(e)}\"\n",
    "\n",
    "    def _load_point_cloud(self, file_path):\n",
    "        \"\"\" Loads a LAS file into Open3D with metadata and assigns unique IDs. \"\"\"\n",
    "        if file_path.endswith(\".las\") or file_path.endswith(\".laz\"):\n",
    "            with laspy.open(file_path) as las_file:\n",
    "                las = las_file.read()\n",
    "                points = np.vstack((las.x, las.y, las.z)).transpose()\n",
    "                pcd = o3d.geometry.PointCloud()\n",
    "                pcd.points = o3d.utility.Vector3dVector(points)\n",
    "\n",
    "                # Assign unique point IDs\n",
    "                point_ids = np.arange(len(las.x), dtype=np.int32)\n",
    "\n",
    "                # Store classification, intensity, and return info\n",
    "                metadata = {\n",
    "                    \"id\": point_ids,  \n",
    "                    \"classification\": las.classification.copy(),\n",
    "                    \"intensity\": las.intensity.copy(),\n",
    "                    \"return_number\": las.return_number.copy(),\n",
    "                    \"num_returns\": las.num_returns.copy(),\n",
    "                }\n",
    "\n",
    "                # Store original LAS header\n",
    "                self.original_header = las.header\n",
    "\n",
    "                # Handle CRS properly\n",
    "                try:\n",
    "                    crs = las.header.parse_crs()\n",
    "                    if crs is not None:\n",
    "                        if isinstance(crs, pyproj.CRS):\n",
    "                            # Check if it's a compound CRS\n",
    "                            if crs.is_compound:\n",
    "                                self.original_crs = crs.sub_crs_list[0]  # Use only the projected CRS\n",
    "                            else:\n",
    "                                self.original_crs = crs\n",
    "                        else:\n",
    "                            print(f\"Warning: Could not parse CRS '{crs}', using default EPSG:26917\")\n",
    "                            self.original_crs = pyproj.CRS.from_epsg(26917)\n",
    "                    else:\n",
    "                        print(\"Warning: No CRS found, using EPSG:26917\")\n",
    "                        self.original_crs = pyproj.CRS.from_epsg(26917)\n",
    "                except Exception:\n",
    "                    self.original_crs = pyproj.CRS.from_epsg(26917)\n",
    "\n",
    "                return pcd, metadata, point_ids\n",
    "            \n",
    "        elif file_path.endswith(\".ply\"):\n",
    "            return o3d.io.read_point_cloud(file_path), None, None\n",
    "        else:\n",
    "            print(\"Unsupported file format\")\n",
    "            return None, None, None\n",
    "    \n",
    "    def _generate_aligned_path(self, source_path):\n",
    "        \"\"\"Generates a filename for the aligned LAS file.\"\"\"\n",
    "        base, _ = os.path.splitext(source_path)\n",
    "        return f\"{base}_aligned.laz\"\n",
    "\n",
    "    def _merge_metadata(self, transformed_pcd, metadata):\n",
    "        \"\"\" Merges transformed XYZ with original metadata using IDs. \"\"\"\n",
    "        num_points = len(transformed_pcd.points)\n",
    "        \n",
    "        if num_points != len(metadata[\"id\"]):\n",
    "            print(\"Warning: Point count mismatch! Adjusting metadata size.\")\n",
    "            min_len = min(num_points, len(metadata[\"id\"]))\n",
    "            for key in metadata:\n",
    "                metadata[key] = metadata[key][:min_len]\n",
    "\n",
    "        # Create structured array for LAS output\n",
    "        new_data = np.zeros(num_points, dtype=[(\"x\", \"f4\"), (\"y\", \"f4\"), (\"z\", \"f4\"),\n",
    "                                            (\"classification\", \"u1\"), (\"intensity\", \"u2\"),\n",
    "                                            (\"return_number\", \"u1\"), (\"num_returns\", \"u1\")])\n",
    "\n",
    "        new_data[\"x\"] = np.asarray(transformed_pcd.points)[:, 0]\n",
    "        new_data[\"y\"] = np.asarray(transformed_pcd.points)[:, 1]\n",
    "        new_data[\"z\"] = np.asarray(transformed_pcd.points)[:, 2]\n",
    "        new_data[\"classification\"] = metadata[\"classification\"]\n",
    "        new_data[\"intensity\"] = metadata[\"intensity\"]\n",
    "        new_data[\"return_number\"] = metadata[\"return_number\"]\n",
    "        new_data[\"num_returns\"] = metadata[\"num_returns\"]\n",
    "\n",
    "        return new_data\n",
    "\n",
    "    def _save_as_laz(self, aligned_data):\n",
    "        \"\"\" Saves transformed LAS file with original metadata. \"\"\"\n",
    "        header = laspy.LasHeader(point_format=3, version=\"1.4\")\n",
    "        header.offsets = np.min(np.vstack((aligned_data[\"x\"], aligned_data[\"y\"], aligned_data[\"z\"])).T, axis=0)\n",
    "        header.scales = np.array([0.01, 0.01, 0.01])  \n",
    "\n",
    "        if self.original_crs is not None:\n",
    "            try:\n",
    "                header.add_crs(self.original_crs)\n",
    "            except Exception as e:\n",
    "                print(f\"Warning: Failed to apply original CRS. Assigning EPSG:26917 instead. Error: {e}\")\n",
    "                header.add_crs(pyproj.CRS.from_epsg(26917)) \n",
    "\n",
    "        las = laspy.LasData(header)\n",
    "        las.x = aligned_data[\"x\"]\n",
    "        las.y = aligned_data[\"y\"]\n",
    "        las.z = aligned_data[\"z\"]\n",
    "        las.classification = aligned_data[\"classification\"]\n",
    "        las.intensity = aligned_data[\"intensity\"]\n",
    "        las.return_number = aligned_data[\"return_number\"]\n",
    "        las.num_returns = aligned_data[\"num_returns\"]\n",
    "\n",
    "        las.write(self.aligned_path)\n",
    "        print(f\"Saved aligned LAS file to {self.aligned_path} with CRS applied.\")\n",
    "\n"
   ]
  },
  {
   "cell_type": "code",
   "execution_count": 167,
   "metadata": {},
   "outputs": [
    {
     "name": "stdout",
     "output_type": "stream",
     "text": [
      "Saved aligned LAS file to F:/Thesis/TTP/Data/LAS/Aligned/TTP15A_aligned.laz with CRS applied.\n",
      "Aligned file created at: ('F:/Thesis/TTP/Data/LAS/Aligned/TTP15A_aligned.laz', 'ICP Alignment Completed.\\n            RMSE: 0.513473\\n            Transformation Matrix:\\n            [[    0.999999     0.000964     0.001402 -4656.247143]\\n [   -0.000963     0.999999    -0.000757   614.892276]\\n [   -0.001403     0.000756     0.999999 -2760.750024]\\n [    0.           0.           0.           1.      ]]')\n"
     ]
    }
   ],
   "source": [
    "# Example Usage\n",
    "if __name__ == \"__main__\":\n",
    "    source_path = \"F:/Thesis/TTP/Data/LAS/Aligned/TTP15A.laz\"\n",
    "    target_path = \"F:/Thesis/TTP/Data/LAS/Aligned/TTP19A.laz\"\n",
    "\n",
    "    icp_aligner = Open3DICP(source_path, target_path, icp_method=\"point-to-plane\")\n",
    "    aligned_file = icp_aligner.align()\n",
    "\n",
    "    if aligned_file:\n",
    "        print(f\"Aligned file created at: {aligned_file}\")\n",
    "    else:\n",
    "        print(\"Alignment failed.\")"
   ]
  },
  {
   "cell_type": "code",
   "execution_count": 25,
   "metadata": {},
   "outputs": [],
   "source": [
    "source_path = \"F:/Thesis/TTP/Data/LAS/Aligned/TTP15A.laz\"\n",
    "target_path = \"F:/Thesis/TTP/Data/LAS/Aligned/TTP19A.laz\"\n",
    "aligned_path = \"F:/Thesis/TTP/Data/LAS/Aligned/TTP15A_alignedtest.laz\""
   ]
  },
  {
   "cell_type": "code",
   "execution_count": 113,
   "metadata": {},
   "outputs": [],
   "source": [
    "with laspy.open(source_path) as las_file:\n",
    "                las = las_file.read()\n",
    "                points = np.vstack((las.x, las.y, las.z)).transpose()\n",
    "                pcd = o3d.geometry.PointCloud()\n",
    "                pcd.points = o3d.utility.Vector3dVector(points)"
   ]
  },
  {
   "cell_type": "code",
   "execution_count": 114,
   "metadata": {},
   "outputs": [],
   "source": [
    "# Store classification, intensity, and return info\n",
    "metadata = {\n",
    "    \"classification\": las.classification.copy(),\n",
    "    \"intensity\": las.intensity.copy(),\n",
    "    \"return_number\": las.return_number.copy(),\n",
    "    \"num_returns\": las.num_returns.copy(),\n",
    "}"
   ]
  },
  {
   "cell_type": "code",
   "execution_count": 115,
   "metadata": {},
   "outputs": [],
   "source": [
    "crs = las.header.parse_crs()"
   ]
  },
  {
   "cell_type": "code",
   "execution_count": 116,
   "metadata": {},
   "outputs": [],
   "source": [
    "original_crs = crs"
   ]
  },
  {
   "cell_type": "code",
   "execution_count": 111,
   "metadata": {},
   "outputs": [],
   "source": [
    "with laspy.open(target_path) as las_file2:\n",
    "                las2 = las_file2.read()\n",
    "                points2 = np.vstack((las2.x, las2.y, las2.z)).transpose()\n",
    "                pcd2 = o3d.geometry.PointCloud()\n",
    "                pcd2.points = o3d.utility.Vector3dVector(points2)\n",
    "\n",
    "# Store classification, intensity, and return info\n",
    "metadata2 = {\n",
    "    \"classification\": las2.classification.copy(),\n",
    "    \"intensity\": las2.intensity.copy(),\n",
    "    \"return_number\": las2.return_number.copy(),\n",
    "    \"num_returns\": las2.num_returns.copy(),\n",
    "}"
   ]
  },
  {
   "cell_type": "code",
   "execution_count": 112,
   "metadata": {},
   "outputs": [
    {
     "data": {
      "text/plain": [
       "PointCloud with 2389843 points."
      ]
     },
     "execution_count": 112,
     "metadata": {},
     "output_type": "execute_result"
    }
   ],
   "source": [
    "pcd2"
   ]
  },
  {
   "cell_type": "code",
   "execution_count": 117,
   "metadata": {},
   "outputs": [],
   "source": [
    "source_down = pcd.voxel_down_sample(0.01)"
   ]
  },
  {
   "cell_type": "code",
   "execution_count": 118,
   "metadata": {},
   "outputs": [],
   "source": [
    "target_down = pcd2.voxel_down_sample(0.01)"
   ]
  },
  {
   "cell_type": "code",
   "execution_count": 119,
   "metadata": {},
   "outputs": [],
   "source": [
    "source_down.estimate_normals(o3d.geometry.KDTreeSearchParamHybrid(radius=0.4, max_nn=30))\n",
    "target_down.estimate_normals(o3d.geometry.KDTreeSearchParamHybrid(radius=0.4, max_nn=30))"
   ]
  },
  {
   "cell_type": "code",
   "execution_count": 121,
   "metadata": {},
   "outputs": [],
   "source": [
    "threshold = 1.0\n",
    "trans_init = np.eye(4)\n",
    "icp_method = (\n",
    "    o3d.pipelines.registration.TransformationEstimationPointToPlane()\n",
    ")"
   ]
  },
  {
   "cell_type": "code",
   "execution_count": 122,
   "metadata": {},
   "outputs": [],
   "source": [
    "# Run ICP\n",
    "result = o3d.pipelines.registration.registration_icp(\n",
    "    source_down, target_down, threshold, trans_init, icp_method,\n",
    "    o3d.pipelines.registration.ICPConvergenceCriteria(max_iteration=50)\n",
    ")\n"
   ]
  },
  {
   "cell_type": "code",
   "execution_count": 123,
   "metadata": {},
   "outputs": [],
   "source": [
    "transformation_self = result.transformation\n",
    "rmse_self  = result.inlier_rmse"
   ]
  },
  {
   "cell_type": "code",
   "execution_count": 125,
   "metadata": {},
   "outputs": [
    {
     "data": {
      "text/plain": [
       "PointCloud with 2166291 points."
      ]
     },
     "execution_count": 125,
     "metadata": {},
     "output_type": "execute_result"
    }
   ],
   "source": [
    "# Apply transformation and save result\n",
    "source_down.transform(transformation_self)"
   ]
  },
  {
   "cell_type": "code",
   "execution_count": 133,
   "metadata": {},
   "outputs": [],
   "source": [
    "points = np.asarray(source_down.points)\n"
   ]
  },
  {
   "cell_type": "code",
   "execution_count": 134,
   "metadata": {},
   "outputs": [],
   "source": [
    "header = laspy.LasHeader(point_format=3, version=\"1.4\")\n",
    "header.offsets = np.min(points, axis=0)\n",
    "header.scales = np.array([0.01, 0.01, 0.01])  # Adjust scale for precision"
   ]
  },
  {
   "cell_type": "code",
   "execution_count": 135,
   "metadata": {},
   "outputs": [],
   "source": [
    "header.add_crs(original_crs)"
   ]
  },
  {
   "cell_type": "code",
   "execution_count": 136,
   "metadata": {},
   "outputs": [],
   "source": [
    "# Create LAS file\n",
    "las = laspy.LasData(header)\n",
    "las.x = points[:, 0]\n",
    "las.y = points[:, 1]\n",
    "las.z = points[:, 2]"
   ]
  },
  {
   "cell_type": "code",
   "execution_count": 137,
   "metadata": {},
   "outputs": [],
   "source": [
    "\n",
    "las.classification = metadata[\"classification\"][:len(las.x)]\n",
    "las.intensity = metadata[\"intensity\"][:len(las.x)]\n",
    "las.return_number = metadata[\"return_number\"][:len(las.x)]\n",
    "las.num_returns = metadata[\"num_returns\"][:len(las.x)]"
   ]
  },
  {
   "cell_type": "code",
   "execution_count": 139,
   "metadata": {},
   "outputs": [
    {
     "data": {
      "text/plain": [
       "<LasData(1.4, point fmt: <PointFormat(3, 0 bytes of extra dims)>, 2166291 points, 2 vlrs)>"
      ]
     },
     "execution_count": 139,
     "metadata": {},
     "output_type": "execute_result"
    }
   ],
   "source": [
    "las"
   ]
  },
  {
   "cell_type": "code",
   "execution_count": 146,
   "metadata": {},
   "outputs": [],
   "source": [
    "las.write(aligned_path)  "
   ]
  },
  {
   "cell_type": "code",
   "execution_count": null,
   "metadata": {},
   "outputs": [],
   "source": [
    "points = np.asarray(point_cloud.points)\n",
    "\n",
    "# Create LAS header\n",
    "header = laspy.LasHeader(point_format=3, version=\"1.4\")\n",
    "header.offsets = np.min(points, axis=0)\n",
    "header.scales = np.array([0.01, 0.01, 0.01])  # Adjust scale for precision\n",
    "\n",
    "# Ensure CRS is valid before applying\n",
    "if self.original_crs is not None:\n",
    "    try:\n",
    "        if self.original_crs.to_epsg():\n",
    "            header.add_crs(self.original_crs)\n",
    "        else:\n",
    "            print(f\"Warning: CRS '{self.original_crs}' does not have a valid EPSG code. Using default EPSG:26917.\")\n",
    "            header.add_crs(pyproj.CRS.from_epsg(26917))\n",
    "    except Exception as e:\n",
    "        print(f\"Warning: Failed to apply original CRS. Assigning EPSG:26917 instead. Error: {e}\")\n",
    "        header.add_crs(pyproj.CRS.from_epsg(26917))  # Assign default EPSG\n",
    "\n",
    "# Create LAS file\n",
    "las = laspy.LasData(header)\n",
    "las.x = points[:, 0]\n",
    "las.y = points[:, 1]\n",
    "las.z = points[:, 2]\n",
    "\n",
    "# Restore original metadata\n",
    "if self.metadata:\n",
    "    las.classification = self.metadata[\"classification\"][:len(las.x)]\n",
    "    las.intensity = self.metadata[\"intensity\"][:len(las.x)]\n",
    "    las.return_number = self.metadata[\"return_number\"][:len(las.x)]\n",
    "    las.num_returns = self.metadata[\"num_returns\"][:len(las.x)]\n",
    "\n",
    "# Save as .laz using write_points()\n",
    "with laspy.open(self.aligned_path, mode=\"w\", header=header) as las_file:\n",
    "    las_file.write_points(las)  \n",
    "\n",
    "print(f\"Saved aligned point cloud to {self.aligned_path} with CRS applied.\")"
   ]
  },
  {
   "cell_type": "code",
   "execution_count": null,
   "metadata": {},
   "outputs": [],
   "source": [
    "\n",
    "self.transformation = result.transformation\n",
    "self.rmse = result.inlier_rmse\n",
    "\n",
    "# Apply transformation and save result\n",
    "source.transform(self.transformation)\n",
    "\n",
    "self.point_cloud = source  # Store the aligned point cloud\n",
    "# self._save_as_laz(source)\n",
    "\n",
    "# Format output string\n",
    "output_str = f\"\"\"\n",
    "ICP Alignment Completed.\n",
    "RMSE: {self.rmse:.6f}\n",
    "Transformation Matrix:\n",
    "{np.array_str(self.transformation, precision=6, suppress_small=True)}"
   ]
  },
  {
   "cell_type": "code",
   "execution_count": null,
   "metadata": {},
   "outputs": [],
   "source": [
    "source = self._load_point_cloud(self.source_path)\n",
    "target = self._load_point_cloud(self.target_path)\n",
    "\n",
    "if source is None or target is None:\n",
    "    print(\"Error: Failed to load point clouds.\")\n",
    "    return None  \n",
    "\n",
    "# Downsample point clouds\n",
    "source_down = source.voxel_down_sample(self.voxel_size)\n",
    "target_down = target.voxel_down_sample(self.voxel_size)\n",
    "\n",
    "# Estimate normals (if point-to-plane)\n",
    "if self.icp_method == \"point-to-plane\":\n",
    "    source_down.estimate_normals(o3d.geometry.KDTreeSearchParamHybrid(radius=0.4, max_nn=30))\n",
    "    target_down.estimate_normals(o3d.geometry.KDTreeSearchParamHybrid(radius=0.4, max_nn=30))\n",
    "\n",
    "# ICP Configuration\n",
    "threshold = 1.0\n",
    "trans_init = np.eye(4)\n",
    "icp_method = (\n",
    "    o3d.pipelines.registration.TransformationEstimationPointToPlane()\n",
    "    if self.icp_method == \"point-to-plane\"\n",
    "    else o3d.pipelines.registration.TransformationEstimationPointToPoint()\n",
    ")\n",
    "\n",
    "try:\n",
    "    # Run ICP\n",
    "    result = o3d.pipelines.registration.registration_icp(\n",
    "        source_down, target_down, threshold, trans_init, icp_method,\n",
    "        o3d.pipelines.registration.ICPConvergenceCriteria(max_iteration=50)\n",
    "    )\n",
    "\n",
    "    self.transformation = result.transformation\n",
    "    self.rmse = result.inlier_rmse\n",
    "\n",
    "    # Apply transformation and save result\n",
    "    source.transform(self.transformation)\n",
    "\n",
    "    self.point_cloud = source  # Store the aligned point cloud\n",
    "    # self._save_as_laz(source)\n",
    "\n",
    "    # Format output string\n",
    "    output_str = f\"\"\"\n",
    "    ICP Alignment Completed.\n",
    "    RMSE: {self.rmse:.6f}\n",
    "    Transformation Matrix:\n",
    "    {np.array_str(self.transformation, precision=6, suppress_small=True)}\n",
    "    \"\"\"\n",
    "\n",
    "    return self.aligned_path, output_str.strip()  # Return both\n",
    "\n",
    "except Exception as e:\n",
    "    return None, f\"Error during ICP alignment: {str(e)}\""
   ]
  }
 ],
 "metadata": {
  "kernelspec": {
   "display_name": "icp_conda",
   "language": "python",
   "name": "python3"
  },
  "language_info": {
   "codemirror_mode": {
    "name": "ipython",
    "version": 3
   },
   "file_extension": ".py",
   "mimetype": "text/x-python",
   "name": "python",
   "nbconvert_exporter": "python",
   "pygments_lexer": "ipython3",
   "version": "3.12.9"
  }
 },
 "nbformat": 4,
 "nbformat_minor": 2
}
